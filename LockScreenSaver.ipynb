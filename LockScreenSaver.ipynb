{
 "cells": [
  {
   "cell_type": "code",
   "execution_count": 7,
   "metadata": {},
   "outputs": [
    {
     "name": "stdout",
     "output_type": "stream",
     "text": [
      "Find 45 files\n"
     ]
    }
   ],
   "source": [
    "import os,shutil\n",
    "\n",
    "path=\"C:/Users/AlphaGoMK/AppData/Local/Packages/Microsoft.Windows.ContentDeliveryManager_cw5n1h2txyewy/LocalState/Assets\"\n",
    "respath=\"C:/Users/AlphaGoMK/AppData/Local/Packages/Microsoft.Windows.ContentDeliveryManager_cw5n1h2txyewy/LocalState/Assets/Img\"\n",
    "threshold=0.1 # 0.1MB\n",
    "\n",
    "if not os.path.exists(respath):\n",
    "    os.makedirs(respath)\n",
    "else:\n",
    "    os.removedirs(respath)\n",
    "    \n",
    "count=1\n",
    "for file in os.listdir(path):\n",
    "    if(0.1<(os.path.getsize(os.path.join(path,file))/float(1024*1024))):\n",
    "        shutil.copyfile(os.path.join(path,file),os.path.join(respath,file))\n",
    "        os.rename(os.path.join(respath,file),os.path.join(respath,str(count)+\".jpg\"))\n",
    "        count+=1\n",
    "    \n",
    "print(\"Find %d files\"%count)"
   ]
  },
  {
   "cell_type": "code",
   "execution_count": null,
   "metadata": {
    "collapsed": true
   },
   "outputs": [],
   "source": []
  }
 ],
 "metadata": {
  "kernelspec": {
   "display_name": "Python 3",
   "language": "python",
   "name": "python3"
  },
  "language_info": {
   "codemirror_mode": {
    "name": "ipython",
    "version": 3
   },
   "file_extension": ".py",
   "mimetype": "text/x-python",
   "name": "python",
   "nbconvert_exporter": "python",
   "pygments_lexer": "ipython3",
   "version": "3.6.1"
  }
 },
 "nbformat": 4,
 "nbformat_minor": 2
}
